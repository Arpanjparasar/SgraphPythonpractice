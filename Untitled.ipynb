{
 "cells": [
  {
   "cell_type": "code",
   "execution_count": 1,
   "metadata": {},
   "outputs": [
    {
     "name": "stdout",
     "output_type": "stream",
     "text": [
      "Enter a number12\n",
      "12\n",
      "The number is greater than 10\n"
     ]
    }
   ],
   "source": [
    "a=int(input('Enter a number'))\n",
    "print(a)\n",
    "if (a>10):\n",
    "    print('The number is greater than 10')\n",
    "else:\n",
    "    print('The number is not greater than 10')"
   ]
  },
  {
   "cell_type": "code",
   "execution_count": 10,
   "metadata": {},
   "outputs": [
    {
     "name": "stdout",
     "output_type": "stream",
     "text": [
      "Enter the first number:12\n",
      "The nuber is even\n"
     ]
    }
   ],
   "source": [
    "a=int(input('Enter the first number:'))\n",
    "if(a%2==0):\n",
    "    print('The nuber is even')\n",
    "else:\n",
    "    print('The nuber is odd')"
   ]
  },
  {
   "cell_type": "code",
   "execution_count": null,
   "metadata": {},
   "outputs": [],
   "source": []
  },
  {
   "cell_type": "code",
   "execution_count": null,
   "metadata": {},
   "outputs": [],
   "source": [
    "a=int(input('Enter the first number:'))\n",
    "b=int(input('Enter the second number:'))\n",
    "op=input('Enter the operation(+,-,/,*)')\n",
    "if(op=='+'):\n",
    "    print('The sum is',a+b)\n",
    "elif(op=='-'):\n",
    "    print('The subtration is',a-b)\n",
    "elif(op=='/'):\n",
    "    print('The division is',a/b)\n",
    "elif(op=='*'):\n",
    "    print('The multiplication is',a*b)\n",
    "else:\n",
    "    print('Please enter a valid operation')"
   ]
  },
  {
   "cell_type": "code",
   "execution_count": null,
   "metadata": {},
   "outputs": [],
   "source": []
  },
  {
   "cell_type": "code",
   "execution_count": null,
   "metadata": {},
   "outputs": [],
   "source": []
  }
 ],
 "metadata": {
  "kernelspec": {
   "display_name": "Python 3",
   "language": "python",
   "name": "python3"
  },
  "language_info": {
   "codemirror_mode": {
    "name": "ipython",
    "version": 3
   },
   "file_extension": ".py",
   "mimetype": "text/x-python",
   "name": "python",
   "nbconvert_exporter": "python",
   "pygments_lexer": "ipython3",
   "version": "3.6.5"
  }
 },
 "nbformat": 4,
 "nbformat_minor": 2
}
